{
 "cells": [
  {
   "cell_type": "code",
   "execution_count": null,
   "id": "1ac25948",
   "metadata": {},
   "outputs": [
    {
     "name": "stdout",
     "output_type": "stream",
     "text": [
      "subscribe to codeclause\n"
     ]
    }
   ],
   "source": [
    "import time\n",
    "import random\n",
    "strings=[\"subscribe to codeclause\",\"hello to python\",\"coding is the future\"]\n",
    "while True:\n",
    "    random_index=random.randint(0,len(strings)-1)\n",
    "    string=strings[random_index]\n",
    "    word_count=len(string.split())\n",
    "    print(string)\n",
    "    t0=time.time()\n",
    "    input_text=str(input(\"write the scentence:\"))\n",
    "    t1=time.time()\n",
    "    if input_text=='0':\n",
    "        print(\"Take Care\")\n",
    "        break\n",
    "    correct_word=len(set(input_text.split())&set(string.split()))\n",
    "    accuracy=correct_word/word_count\n",
    "    time_taken=t1-t0\n",
    "    wps=word_count/time_taken\n",
    "    print('wps:',wps,'Accuracy:',accuracy*100,\"Time Taken:\",time_taken,'\\n\\n')"
   ]
  },
  {
   "cell_type": "code",
   "execution_count": null,
   "id": "fab0ed3c",
   "metadata": {},
   "outputs": [],
   "source": [
    "\n",
    "\n",
    "\n"
   ]
  },
  {
   "cell_type": "code",
   "execution_count": null,
   "id": "4b8f46ae",
   "metadata": {},
   "outputs": [],
   "source": []
  }
 ],
 "metadata": {
  "kernelspec": {
   "display_name": "Python 3 (ipykernel)",
   "language": "python",
   "name": "python3"
  },
  "language_info": {
   "codemirror_mode": {
    "name": "ipython",
    "version": 3
   },
   "file_extension": ".py",
   "mimetype": "text/x-python",
   "name": "python",
   "nbconvert_exporter": "python",
   "pygments_lexer": "ipython3",
   "version": "3.9.13"
  }
 },
 "nbformat": 4,
 "nbformat_minor": 5
}
